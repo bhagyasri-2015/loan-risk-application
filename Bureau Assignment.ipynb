{
 "cells": [
  {
   "cell_type": "code",
   "execution_count": 9,
   "id": "0d0f8ac0",
   "metadata": {},
   "outputs": [],
   "source": [
    "import pandas as pd\n",
    "from sklearn.model_selection import train_test_split\n",
    "from sklearn.impute import SimpleImputer\n",
    "from sklearn.preprocessing import OneHotEncoder, StandardScaler\n",
    "from sklearn.linear_model import LogisticRegression\n",
    "from sklearn.metrics import classification_report\n",
    "from sklearn.compose import ColumnTransformer\n",
    "\n",
    "# Load the datasets\n",
    "train_data_path = r'C:\\Users\\bhagya sri\\Downloads\\Assignment_Train.csv'  # Replace with your path\n",
    "train_df = pd.read_csv(train_data_path)\n",
    "\n",
    "# Select relevant columns to drop\n",
    "columns_to_drop = ['DEALER ID', 'APPLICATION LOGIN DATE', 'FIRST NAME', 'MIDDLE NAME', 'LAST NAME', 'mobile']\n",
    "train_data_filtered = train_df.drop(columns=columns_to_drop)\n",
    "\n",
    "# Separate features (X) and target (y)\n",
    "target_variable = 'Application Status'\n",
    "X = train_data_filtered.drop(columns=[target_variable])\n",
    "y = train_data_filtered[target_variable]\n",
    "\n",
    "# Split the data into 80% train and 20% test\n",
    "X_train, X_test, y_train, y_test = train_test_split(X, y, test_size=0.2, random_state=42, stratify=y)\n",
    "\n"
   ]
  },
  {
   "cell_type": "code",
   "execution_count": 10,
   "id": "afc968ce",
   "metadata": {},
   "outputs": [
    {
     "name": "stderr",
     "output_type": "stream",
     "text": [
      "C:\\Users\\bhagya sri\\anaconda3\\Lib\\site-packages\\sklearn\\preprocessing\\_encoders.py:972: FutureWarning: `sparse` was renamed to `sparse_output` in version 1.2 and will be removed in 1.4. `sparse_output` is ignored unless you leave `sparse` to its default value.\n",
      "  warnings.warn(\n"
     ]
    },
    {
     "name": "stdout",
     "output_type": "stream",
     "text": [
      "              precision    recall  f1-score   support\n",
      "\n",
      "    APPROVED       0.92      0.88      0.90      1335\n",
      "    DECLINED       0.78      0.85      0.81       665\n",
      "\n",
      "    accuracy                           0.87      2000\n",
      "   macro avg       0.85      0.86      0.85      2000\n",
      "weighted avg       0.87      0.87      0.87      2000\n",
      "\n"
     ]
    }
   ],
   "source": [
    "\n",
    "\n",
    "# Convert column names to strings to avoid mismatches in feature names\n",
    "X_train.columns = X_train.columns.astype(str)\n",
    "X_test.columns = X_test.columns.astype(str)\n",
    "\n",
    "# Separate numerical and categorical columns\n",
    "num_cols = X_train.select_dtypes(include=['int64', 'float64']).columns\n",
    "cat_cols = X_train.select_dtypes(include=['object']).columns\n",
    "\n",
    "# 1. Handle missing values for numerical data (fill with median)\n",
    "imputer_num = SimpleImputer(strategy='median')\n",
    "X_train[num_cols] = imputer_num.fit_transform(X_train[num_cols])\n",
    "X_test[num_cols] = imputer_num.transform(X_test[num_cols])\n",
    "\n",
    "# 2. Handle missing values for categorical data (fill with most frequent)\n",
    "imputer_cat = SimpleImputer(strategy='most_frequent')\n",
    "X_train[cat_cols] = imputer_cat.fit_transform(X_train[cat_cols])\n",
    "X_test[cat_cols] = imputer_cat.transform(X_test[cat_cols])\n",
    "\n",
    "# 3. One-Hot Encode categorical data\n",
    "encoder = OneHotEncoder(handle_unknown='ignore', sparse=False)\n",
    "X_train_encoded = pd.DataFrame(encoder.fit_transform(X_train[cat_cols]), index=X_train.index)\n",
    "X_test_encoded = pd.DataFrame(encoder.transform(X_test[cat_cols]), index=X_test.index)\n",
    "\n",
    "# Get the encoded column names and ensure they are strings\n",
    "encoded_cat_cols = encoder.get_feature_names_out(cat_cols)\n",
    "\n",
    "# Combine the encoded categorical features with the numerical features\n",
    "X_train_final = pd.concat([X_train[num_cols], X_train_encoded], axis=1)\n",
    "X_test_final = pd.concat([X_test[num_cols], X_test_encoded], axis=1)\n",
    "\n",
    "# Make sure all columns in X_train_final and X_test_final are strings\n",
    "X_train_final.columns = X_train_final.columns.astype(str)\n",
    "X_test_final.columns = X_test_final.columns.astype(str)\n",
    "\n",
    "# 4. Standardize the numerical data\n",
    "scaler = StandardScaler()\n",
    "X_train_final[num_cols] = scaler.fit_transform(X_train_final[num_cols])\n",
    "X_test_final[num_cols] = scaler.transform(X_test_final[num_cols])\n",
    "\n",
    "# 5. Train the Logistic Regression model\n",
    "model = LogisticRegression(max_iter=1000)\n",
    "model.fit(X_train_final, y_train)\n",
    "\n",
    "# 6. Perform predictions on the test set\n",
    "y_pred = model.predict(X_test_final)\n",
    "\n",
    "# 7. Output the classification report\n",
    "report = classification_report(y_test, y_pred)\n",
    "print(report)"
   ]
  },
  {
   "cell_type": "code",
   "execution_count": 6,
   "id": "10053963",
   "metadata": {},
   "outputs": [
    {
     "data": {
      "image/png": "[encoded data removed]",
      "text/plain": [
       "<Figure size 640x480 with 2 Axes>"
      ]
     },
     "metadata": {},
     "output_type": "display_data"
    }
   ],
   "source": [
    "from sklearn.metrics import confusion_matrix\n",
    "import seaborn as sns\n",
    "import matplotlib.pyplot as plt\n",
    "\n",
    "cm = confusion_matrix(y_test, y_pred)\n",
    "sns.heatmap(cm, annot=True, fmt='d', cmap='Blues')\n",
    "plt.xlabel('Predicted')\n",
    "plt.ylabel('Actual')\n",
    "plt.show()\n"
   ]
  },
  {
   "cell_type": "code",
   "execution_count": null,
   "id": "b15e4c4d",
   "metadata": {},
   "outputs": [],
   "source": []
  },
  {
   "cell_type": "code",
   "execution_count": 16,
   "id": "5606872a",
   "metadata": {},
   "outputs": [
    {
     "name": "stdout",
     "output_type": "stream",
     "text": [
      "Predictions have been saved to predictions.csv\n"
     ]
    }
   ],
   "source": [
    "import pandas as pd\n",
    "from sklearn.impute import SimpleImputer\n",
    "from sklearn.preprocessing import OneHotEncoder, StandardScaler\n",
    "\n",
    "# Load the test dataset\n",
    "test_data_path = r'C:\\Users\\bhagya sri\\Downloads\\Assignment_Test.csv'  # Replace with your test dataset path\n",
    "test_df = pd.read_csv(test_data_path)\n",
    "\n",
    "# Extract the UID column and remove it from the test dataset\n",
    "UID = test_df['UID']  # Extract the UID column\n",
    "test_data_filtered = test_df.drop(columns=['UID'])  # Remove the UID column\n",
    "\n",
    "# Drop the same irrelevant columns as in training\n",
    "columns_to_drop_test = ['DEALER ID', 'APPLICATION LOGIN DATE', 'FIRST NAME', 'MIDDLE NAME', 'LAST NAME', 'mobile']\n",
    "test_data_filtered = test_data_filtered.drop(columns=columns_to_drop_test)\n",
    "\n",
    "# Ensure all column names are strings\n",
    "test_data_filtered.columns = test_data_filtered.columns.astype(str)\n",
    "\n",
    "# Handle numerical and categorical columns in the same way as training\n",
    "num_cols_test = test_data_filtered.select_dtypes(include=['int64', 'float64']).columns\n",
    "cat_cols_test = test_data_filtered.select_dtypes(include=['object']).columns\n",
    "\n",
    "# Ensure numerical column names are strings\n",
    "num_cols_test = num_cols_test.astype(str)\n",
    "cat_cols_test = cat_cols_test.astype(str)\n",
    "\n",
    "# 1. Handle missing values for numerical data (fill with median)\n",
    "test_data_filtered[num_cols_test] = imputer_num.transform(test_data_filtered[num_cols_test])\n",
    "\n",
    "# 2. Handle missing values for categorical data (fill with most frequent)\n",
    "test_data_filtered[cat_cols_test] = imputer_cat.transform(test_data_filtered[cat_cols_test])\n",
    "\n",
    "# 3. One-Hot Encode categorical data\n",
    "test_encoded = pd.DataFrame(encoder.transform(test_data_filtered[cat_cols_test]), index=test_data_filtered.index)\n",
    "\n",
    "# Ensure encoded column names are strings\n",
    "test_encoded.columns = test_encoded.columns.astype(str)\n",
    "\n",
    "# Combine the encoded categorical features with the numerical features\n",
    "X_test_final_data = pd.concat([test_data_filtered[num_cols_test], test_encoded], axis=1)\n",
    "\n",
    "# 4. Standardize the numerical data\n",
    "X_test_final_data[num_cols_test] = scaler.transform(X_test_final_data[num_cols_test])\n",
    "\n",
    "# 5. Perform predictions using the trained model\n",
    "y_test_pred = model.predict(X_test_final_data)\n",
    "\n",
    "# 6. Prepare the DataFrame with 'UID' and 'Prediction'\n",
    "predictions_df = pd.DataFrame({\n",
    "    'UID': UID,\n",
    "    'Prediction': y_test_pred\n",
    "})\n",
    "\n",
    "# 7. Save the predictions to a CSV file named 'predictions.csv'\n",
    "predictions_df.to_csv(r'C:\\Users\\bhagya sri\\OneDrive\\Desktop\\predictions.csv', index=False)\n",
    "\n",
    "print(\"Predictions have been saved to predictions.csv\")\n"
   ]
  },
  {
   "cell_type": "code",
   "execution_count": null,
   "id": "aa67ad48",
   "metadata": {},
   "outputs": [],
   "source": []
  }
 ],
 "metadata": {
  "kernelspec": {
   "display_name": "Python 3 (ipykernel)",
   "language": "python",
   "name": "python3"
  },
  "language_info": {
   "codemirror_mode": {
    "name": "ipython",
    "version": 3
   },
   "file_extension": ".py",
   "mimetype": "text/x-python",
   "name": "python",
   "nbconvert_exporter": "python",
   "pygments_lexer": "ipython3",
   "version": "3.11.5"
  }
 },
 "nbformat": 4,
 "nbformat_minor": 5
}
